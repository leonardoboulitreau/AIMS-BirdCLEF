{
 "cells": [
  {
   "cell_type": "markdown",
   "metadata": {},
   "source": [
    "### Imports"
   ]
  },
  {
   "cell_type": "code",
   "execution_count": 1,
   "metadata": {},
   "outputs": [],
   "source": [
    "import os\n",
    "import numpy as np\n",
    "import pandas as pd\n",
    "import librosa"
   ]
  },
  {
   "cell_type": "markdown",
   "metadata": {},
   "source": [
    "### Get Data"
   ]
  },
  {
   "cell_type": "code",
   "execution_count": 15,
   "metadata": {},
   "outputs": [
    {
     "name": "stdout",
     "output_type": "stream",
     "text": [
      "Number of test soundscapes: 50\n"
     ]
    }
   ],
   "source": [
    "# Set Traing and Test Data Paths\n",
    "train_audio_dir = '../input/birdclef-2024/train_audio/'\n",
    "test_audio_dir = '../input/birdclef-2024/test_soundscapes/'\n",
    "unlabeled_audio_dir = '../input/birdclef-2024/unlabeled_soundscapes/'\n",
    "\n",
    "# Read All Test Files\n",
    "file_list_test = [f for f in sorted(os.listdir(test_audio_dir))]\n",
    "\n",
    "# Checking if Test Files is Empty\n",
    "if len(file_list_test) > 1:\n",
    "    TEST_EMPYT = False\n",
    "else:\n",
    "    TEST_EMPYT = True\n",
    "\n",
    "# Read All Unlabeled Files\n",
    "file_list_unlabeled = [f for f in sorted(os.listdir(unlabeled_audio_dir))]\n",
    "\n",
    "if TEST_EMPYT:\n",
    "    # Remove .ogg Extension\n",
    "    file_list = [file.split('.')[0] for file in file_list_unlabeled[:50] if file.endswith('.ogg')] # Apenas os 50 primeiros audios\n",
    "else:\n",
    "    # Remove .ogg Extension\n",
    "    file_list = [file.split('.')[0] for file in file_list_test if file.endswith('.ogg')] # Apenas os 50 primeiros audios\n",
    "print('Number of test soundscapes:', len(file_list))\n",
    "\n",
    "\n",
    "# This is where we will store our results\n",
    "pred = {'row_id': []}\n",
    "\n",
    "# Get labels from training data\n",
    "species_list = sorted(os.listdir(train_audio_dir))\n",
    "for species_code in species_list:\n",
    "    pred[species_code] = []"
   ]
  },
  {
   "cell_type": "code",
   "execution_count": 16,
   "metadata": {},
   "outputs": [
    {
     "data": {
      "text/plain": [
       "['readme.txt']"
      ]
     },
     "execution_count": 16,
     "metadata": {},
     "output_type": "execute_result"
    }
   ],
   "source": [
    "file_list_test"
   ]
  },
  {
   "cell_type": "markdown",
   "metadata": {},
   "source": [
    "### Processing Loop"
   ]
  },
  {
   "cell_type": "code",
   "execution_count": 17,
   "metadata": {},
   "outputs": [],
   "source": [
    "# Process audio files and make predictions\n",
    "for afile in file_list:\n",
    "    \n",
    "    # Checking if Test Files is empty\n",
    "    if TEST_EMPYT:\n",
    "\n",
    "        # Complete file path\n",
    "        path = unlabeled_audio_dir + afile + '.ogg'\n",
    "\n",
    "    else:\n",
    "\n",
    "        # Complete file path\n",
    "        path = test_audio_dir + afile + '.ogg'\n",
    "    \n",
    "    # Open file with librosa and split signal into 5-second chunks\n",
    "    sig, rate = librosa.load(path, sr=32000)\n",
    "    # ...\n",
    "    \n",
    "    # 48 audio chunks (4min / 5s == 48 segments)\n",
    "    chunks = [[] for i in range(48)]\n",
    "    \n",
    "    # Make prediction for each chunk\n",
    "    # Each bird gets a random value in our case\n",
    "    # since we don't actually have a model\n",
    "    for i in range(len(chunks)):        \n",
    "        chunk_end_time = (i + 1) * 5\n",
    "        \n",
    "        # Assign the row_id which we need to do for each chunk\n",
    "        row_id = afile + '_' + str(chunk_end_time)\n",
    "        pred['row_id'].append(row_id)\n",
    "        \n",
    "        for bird in species_list:\n",
    "            \n",
    "            # This is our random prediction score for this bird\n",
    "            score = np.random.uniform()     \n",
    "            \n",
    "            # Put the result into our prediction dict            \n",
    "            pred[bird].append(score)\n"
   ]
  },
  {
   "cell_type": "code",
   "execution_count": 18,
   "metadata": {},
   "outputs": [
    {
     "name": "stdout",
     "output_type": "stream",
     "text": [
      "          row_id    asbfly   ashdro1   ashpri1   ashwoo2   asikoe2   asiope1  \\\n",
      "0   1000170626_5  0.210276  0.665792  0.398583  0.423653  0.614912  0.998531   \n",
      "1  1000170626_10  0.583737  0.259609  0.170758  0.983999  0.194038  0.087917   \n",
      "2  1000170626_15  0.053584  0.089535  0.354976  0.033978  0.451508  0.640238   \n",
      "3  1000170626_20  0.527951  0.840371  0.948641  0.246158  0.539454  0.236560   \n",
      "4  1000170626_25  0.642752  0.580146  0.012807  0.478287  0.079953  0.484976   \n",
      "\n",
      "    aspfly1   aspswi1   barfly1  ...   whbwoo2   whcbar1   whiter2    whrmun  \\\n",
      "0  0.094423  0.135508  0.485010  ...  0.259779  0.839425  0.478043  0.786645   \n",
      "1  0.590341  0.734156  0.719902  ...  0.721481  0.723360  0.121405  0.507002   \n",
      "2  0.411611  0.357734  0.655305  ...  0.318564  0.505502  0.865840  0.250909   \n",
      "3  0.810665  0.660010  0.957868  ...  0.958799  0.545499  0.001235  0.409466   \n",
      "4  0.258889  0.172661  0.655887  ...  0.450632  0.404628  0.452804  0.618671   \n",
      "\n",
      "    whtkin2    woosan   wynlau1   yebbab1   yebbul3   zitcis1  \n",
      "0  0.908222  0.068568  0.244195  0.505445  0.693891  0.107253  \n",
      "1  0.766126  0.672738  0.489110  0.527591  0.126668  0.006660  \n",
      "2  0.299893  0.658646  0.882537  0.578179  0.097737  0.460496  \n",
      "3  0.138248  0.646821  0.951120  0.193780  0.061647  0.387109  \n",
      "4  0.152569  0.969505  0.892005  0.693348  0.712657  0.411847  \n",
      "\n",
      "[5 rows x 183 columns]\n"
     ]
    }
   ],
   "source": [
    "# Make a new data frame and look at some results        \n",
    "results = pd.DataFrame(pred, columns = ['row_id'] + species_list)\n",
    "\n",
    "# Quick sanity check\n",
    "print(results.head()) \n",
    "    \n",
    "# Convert our results to csv\n",
    "results.to_csv(\"submission.csv\", index=False) "
   ]
  }
 ],
 "metadata": {
  "kernelspec": {
   "display_name": "Python 3",
   "language": "python",
   "name": "python3"
  },
  "language_info": {
   "codemirror_mode": {
    "name": "ipython",
    "version": 3
   },
   "file_extension": ".py",
   "mimetype": "text/x-python",
   "name": "python",
   "nbconvert_exporter": "python",
   "pygments_lexer": "ipython3",
   "version": "3.8.10"
  }
 },
 "nbformat": 4,
 "nbformat_minor": 2
}
