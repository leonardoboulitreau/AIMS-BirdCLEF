{
 "cells": [
  {
   "cell_type": "markdown",
   "metadata": {},
   "source": [
    "### Imports"
   ]
  },
  {
   "cell_type": "code",
   "execution_count": 1,
   "metadata": {},
   "outputs": [],
   "source": [
    "import os\n",
    "import numpy as np\n",
    "import pandas as pd\n",
    "import librosa"
   ]
  },
  {
   "cell_type": "markdown",
   "metadata": {},
   "source": [
    "### Get Data"
   ]
  },
  {
   "cell_type": "code",
   "execution_count": 2,
   "metadata": {},
   "outputs": [
    {
     "ename": "FileNotFoundError",
     "evalue": "[Errno 2] No such file or directory: '../input/birdclef-2024/test_soundscapes/'",
     "output_type": "error",
     "traceback": [
      "\u001b[0;31m---------------------------------------------------------------------------\u001b[0m",
      "\u001b[0;31mFileNotFoundError\u001b[0m                         Traceback (most recent call last)",
      "Cell \u001b[0;32mIn[2], line 6\u001b[0m\n\u001b[1;32m      3\u001b[0m test_audio_dir \u001b[38;5;241m=\u001b[39m \u001b[38;5;124m'\u001b[39m\u001b[38;5;124m../input/birdclef-2024/test_soundscapes/\u001b[39m\u001b[38;5;124m'\u001b[39m\n\u001b[1;32m      5\u001b[0m \u001b[38;5;66;03m# Read All Test Files\u001b[39;00m\n\u001b[0;32m----> 6\u001b[0m file_list \u001b[38;5;241m=\u001b[39m [f \u001b[38;5;28;01mfor\u001b[39;00m f \u001b[38;5;129;01min\u001b[39;00m \u001b[38;5;28msorted\u001b[39m(\u001b[43mos\u001b[49m\u001b[38;5;241;43m.\u001b[39;49m\u001b[43mlistdir\u001b[49m\u001b[43m(\u001b[49m\u001b[43mtest_audio_dir\u001b[49m\u001b[43m)\u001b[49m)]\n\u001b[1;32m      8\u001b[0m \u001b[38;5;66;03m# Remove .ogg Extension\u001b[39;00m\n\u001b[1;32m      9\u001b[0m file_list \u001b[38;5;241m=\u001b[39m [file\u001b[38;5;241m.\u001b[39msplit(\u001b[38;5;124m'\u001b[39m\u001b[38;5;124m.\u001b[39m\u001b[38;5;124m'\u001b[39m)[\u001b[38;5;241m0\u001b[39m] \u001b[38;5;28;01mfor\u001b[39;00m file \u001b[38;5;129;01min\u001b[39;00m file_list \u001b[38;5;28;01mif\u001b[39;00m file\u001b[38;5;241m.\u001b[39mendswith(\u001b[38;5;124m'\u001b[39m\u001b[38;5;124m.ogg\u001b[39m\u001b[38;5;124m'\u001b[39m)]\n",
      "\u001b[0;31mFileNotFoundError\u001b[0m: [Errno 2] No such file or directory: '../input/birdclef-2024/test_soundscapes/'"
     ]
    }
   ],
   "source": [
    "# Set Traing and Test Data Paths\n",
    "train_audio_dir = '../input/birdclef-2024/train_audio/'\n",
    "test_audio_dir = '../input/birdclef-2024/test_soundscapes/'\n",
    "\n",
    "# Read All Test Files\n",
    "file_list = [f for f in sorted(os.listdir(test_audio_dir))]\n",
    "\n",
    "# Remove .ogg Extension\n",
    "file_list = [file.split('.')[0] for file in file_list if file.endswith('.ogg')]\n",
    "\n",
    "print('Number of test soundscapes:', len(file_list))\n",
    "\n",
    "# This is where we will store our results\n",
    "pred = {'row_id': []}\n",
    "\n",
    "# Get labels from training data\n",
    "species_list = sorted(os.listdir(train_audio_dir))\n",
    "for species_code in species_list:\n",
    "    pred[species_code] = []"
   ]
  },
  {
   "cell_type": "markdown",
   "metadata": {},
   "source": [
    "### Processing Loop"
   ]
  },
  {
   "cell_type": "code",
   "execution_count": null,
   "metadata": {},
   "outputs": [],
   "source": [
    "# Process audio files and make predictions\n",
    "for afile in file_list:\n",
    "    \n",
    "    # Complete file path\n",
    "    path = test_audio_dir + afile + '.ogg'\n",
    "    \n",
    "    # Open file with librosa and split signal into 5-second chunks\n",
    "    sig, rate = librosa.load(path, sr=32000)\n",
    "    # ...\n",
    "    \n",
    "    # 48 audio chunks (4min / 5s == 48 segments)\n",
    "    chunks = [[] for i in range(48)]\n",
    "    \n",
    "    # Make prediction for each chunk\n",
    "    # Each bird gets a random value in our case\n",
    "    # since we don't actually have a model\n",
    "    for i in range(len(chunks)):        \n",
    "        chunk_end_time = (i + 1) * 5\n",
    "        \n",
    "        # Assign the row_id which we need to do for each chunk\n",
    "        row_id = afile + '_' + str(chunk_end_time)\n",
    "        pred['row_id'].append(row_id)\n",
    "        \n",
    "        for bird in species_list:\n",
    "            \n",
    "            # This is our random prediction score for this bird\n",
    "            score = np.random.uniform()     \n",
    "            \n",
    "            # Put the result into our prediction dict            \n",
    "            pred[bird].append(score)\n"
   ]
  },
  {
   "cell_type": "code",
   "execution_count": null,
   "metadata": {},
   "outputs": [],
   "source": [
    "# Make a new data frame and look at some results        \n",
    "results = pd.DataFrame(pred, columns = ['row_id'] + species_list)\n",
    "\n",
    "# Quick sanity check\n",
    "print(results.head()) \n",
    "    \n",
    "# Convert our results to csv\n",
    "results.to_csv(\"submission.csv\", index=False) "
   ]
  }
 ],
 "metadata": {
  "kernelspec": {
   "display_name": "Python 3",
   "language": "python",
   "name": "python3"
  },
  "language_info": {
   "codemirror_mode": {
    "name": "ipython",
    "version": 3
   },
   "file_extension": ".py",
   "mimetype": "text/x-python",
   "name": "python",
   "nbconvert_exporter": "python",
   "pygments_lexer": "ipython3",
   "version": "3.8.10"
  }
 },
 "nbformat": 4,
 "nbformat_minor": 2
}
