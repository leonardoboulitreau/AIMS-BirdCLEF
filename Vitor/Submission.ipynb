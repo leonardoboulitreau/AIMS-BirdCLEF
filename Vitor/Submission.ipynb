{
 "cells": [
  {
   "cell_type": "markdown",
   "metadata": {},
   "source": [
    "### Imports"
   ]
  },
  {
   "cell_type": "code",
   "execution_count": null,
   "metadata": {},
   "outputs": [],
   "source": [
    "import os\n",
    "import numpy as np\n",
    "import pandas as pd\n",
    "import librosa"
   ]
  },
  {
   "cell_type": "markdown",
   "metadata": {},
   "source": [
    "### Get Data"
   ]
  },
  {
   "cell_type": "code",
   "execution_count": null,
   "metadata": {},
   "outputs": [],
   "source": [
    "# Set Traing and Test Data Paths\n",
    "train_audio_dir = '../input/birdclef-2024/train_audio/'\n",
    "test_audio_dir = '../input/birdclef-2024/test_soundscapes/'\n",
    "\n",
    "# Read All Test Files\n",
    "file_list = [f for f in sorted(os.listdir(test_audio_dir))]\n",
    "\n",
    "# Remove .ogg Extension\n",
    "file_list = [file.split('.')[0] for file in file_list if file.endswith('.ogg')]\n",
    "\n",
    "print('Number of test soundscapes:', len(file_list))\n",
    "\n",
    "# This is where we will store our results\n",
    "pred = {'row_id': []}\n",
    "\n",
    "# Get labels from training data\n",
    "species_list = sorted(os.listdir(train_audio_dir))\n",
    "for species_code in species_list:\n",
    "    pred[species_code] = []"
   ]
  },
  {
   "cell_type": "markdown",
   "metadata": {},
   "source": [
    "### Processing Loop"
   ]
  },
  {
   "cell_type": "code",
   "execution_count": null,
   "metadata": {},
   "outputs": [],
   "source": [
    "# Process audio files and make predictions\n",
    "for afile in file_list:\n",
    "    \n",
    "    # Complete file path\n",
    "    path = test_audio_dir + afile + '.ogg'\n",
    "    \n",
    "    # Open file with librosa and split signal into 5-second chunks\n",
    "    sig, rate = librosa.load(path, sr=32000)\n",
    "    # ...\n",
    "    \n",
    "    # 48 audio chunks (4min / 5s == 48 segments)\n",
    "    chunks = [[] for i in range(48)]\n",
    "    \n",
    "    # Make prediction for each chunk\n",
    "    # Each bird gets a random value in our case\n",
    "    # since we don't actually have a model\n",
    "    for i in range(len(chunks)):        \n",
    "        chunk_end_time = (i + 1) * 5\n",
    "        \n",
    "        # Assign the row_id which we need to do for each chunk\n",
    "        row_id = afile + '_' + str(chunk_end_time)\n",
    "        pred['row_id'].append(row_id)\n",
    "        \n",
    "        for bird in species_list:\n",
    "            \n",
    "            # This is our random prediction score for this bird\n",
    "            score = np.random.uniform()     \n",
    "            \n",
    "            # Put the result into our prediction dict            \n",
    "            pred[bird].append(score)\n"
   ]
  },
  {
   "cell_type": "code",
   "execution_count": null,
   "metadata": {},
   "outputs": [],
   "source": [
    "# Make a new data frame and look at some results        \n",
    "results = pd.DataFrame(pred, columns = ['row_id'] + species_list)\n",
    "\n",
    "# Quick sanity check\n",
    "print(results.head()) \n",
    "    \n",
    "# Convert our results to csv\n",
    "results.to_csv(\"submission.csv\", index=False) "
   ]
  }
 ],
 "metadata": {
  "language_info": {
   "name": "python"
  }
 },
 "nbformat": 4,
 "nbformat_minor": 2
}
